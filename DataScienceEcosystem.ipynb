{
 "cells": [
  {
   "cell_type": "markdown",
   "id": "b502c88b-e6ae-45bd-aa89-34fe72a870e5",
   "metadata": {},
   "source": [
    "# Data Science Tools and Ecosystem"
   ]
  },
  {
   "cell_type": "markdown",
   "id": "d8cddfd1-85d3-432b-a885-46838be7b079",
   "metadata": {},
   "source": [
    "In this notebook, Data Science Tools and Ecosystems are summarized."
   ]
  },
  {
   "cell_type": "markdown",
   "id": "26056453-4a51-4a1d-9d57-c9540edd3e60",
   "metadata": {},
   "source": [
    "** Objectives: \n",
    "- List popular languages for Data Science\n",
    "- List commonly used libraries for Data Science\n",
    "- Example of evaluation arithmetic expressions in Python"
   ]
  },
  {
   "cell_type": "markdown",
   "id": "42372a72-ebbd-44aa-a9a8-7abcf8028226",
   "metadata": {},
   "source": [
    "Some of the popular languages that Data Scientist use are:\n",
    "1. Python\n",
    "2. R\n",
    "3. SQL"
   ]
  },
  {
   "cell_type": "markdown",
   "id": "abd090a9-4c0d-4a37-a992-012d146bf226",
   "metadata": {},
   "source": [
    "Some of the commonly used libraries used by Data Scientist include:\n",
    "1. Scientific Computing\n",
    "2. Visualization\n",
    "3. Machine Learning and Deep Learning"
   ]
  },
  {
   "cell_type": "markdown",
   "id": "88f156a9-c574-4ab6-bed0-ceaa71f51554",
   "metadata": {},
   "source": [
    "| Data Science Tools |\n",
    "|------|\n",
    "|JupyterLab|\n",
    "|JupyterLite|\n",
    "|VS Code|\n",
    "|Google Collaboratory|"
   ]
  },
  {
   "cell_type": "markdown",
   "id": "50054681-d180-4e78-8300-39c5fd1bda89",
   "metadata": {},
   "source": [
    "### Below are a few examples of evaluating arithmetic expressions in Python."
   ]
  },
  {
   "cell_type": "code",
   "execution_count": 1,
   "id": "b4491f3d-6521-4439-8319-84ff8c20cedd",
   "metadata": {
    "tags": []
   },
   "outputs": [
    {
     "data": {
      "text/plain": [
       "17"
      ]
     },
     "execution_count": 1,
     "metadata": {},
     "output_type": "execute_result"
    }
   ],
   "source": [
    "# This is a simple arithmetic expression to multiply and add integers\n",
    "(3*4)+5"
   ]
  },
  {
   "cell_type": "code",
   "execution_count": 2,
   "id": "bb937d79-ca47-4ea3-a7a9-427ac3954083",
   "metadata": {
    "tags": []
   },
   "outputs": [
    {
     "data": {
      "text/plain": [
       "3.3333333333333335"
      ]
     },
     "execution_count": 2,
     "metadata": {},
     "output_type": "execute_result"
    }
   ],
   "source": [
    "# This will convert 200 minutes to hours by dividing by 60\n",
    "200/60"
   ]
  },
  {
   "cell_type": "markdown",
   "id": "a288b0ae-8893-4df3-bd4c-1d5ea065a76a",
   "metadata": {},
   "source": [
    "## Author\n",
    "Alberto Quiazon"
   ]
  },
  {
   "cell_type": "code",
   "execution_count": null,
   "id": "c51b6d86-a2b6-4fd9-a705-76846d5951ae",
   "metadata": {},
   "outputs": [],
   "source": []
  }
 ],
 "metadata": {
  "kernelspec": {
   "display_name": "Python",
   "language": "python",
   "name": "conda-env-python-py"
  },
  "language_info": {
   "codemirror_mode": {
    "name": "ipython",
    "version": 3
   },
   "file_extension": ".py",
   "mimetype": "text/x-python",
   "name": "python",
   "nbconvert_exporter": "python",
   "pygments_lexer": "ipython3",
   "version": "3.7.12"
  }
 },
 "nbformat": 4,
 "nbformat_minor": 5
}
